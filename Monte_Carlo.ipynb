{
 "cells": [
  {
   "cell_type": "code",
   "execution_count": 1,
   "id": "76a97851",
   "metadata": {},
   "outputs": [
    {
     "name": "stdout",
     "output_type": "stream",
     "text": [
      "Monte Carlo Integration Results:\n",
      "n = 100: Integral Estimate = 0.988143, 95% Confidence Interval = [0.864213, 1.112074]\n",
      "n = 1000: Integral Estimate = 0.966999, 95% Confidence Interval = [0.927332, 1.006666]\n",
      "n = 10000: Integral Estimate = 0.925086, 95% Confidence Interval = [0.912402, 0.937771]\n",
      "n = 100000: Integral Estimate = 0.923916, 95% Confidence Interval = [0.919894, 0.927938]\n",
      "\n",
      "Numerical Integration Result (using quad):\n",
      "Numerical Integral = 0.913864\n",
      "\n",
      "Analytical Result:\n",
      "Analytical Result = 0.913864\n"
     ]
    }
   ],
   "source": [
    "import numpy as np\n",
    "import matplotlib.pyplot as plt\n",
    "from scipy.integrate import quad\n",
    "# Define the function cos(pi * x * (1 - x))\n",
    "def f(x):\n",
    "    return np.cos(np.pi * x * (1 - x))\n",
    "# Define the limits of integration\n",
    "a = 0\n",
    "b = 2\n",
    "# Define the sample sizes\n",
    "n_values = np.array([100, 1000, 10000, 100000])\n",
    "# Define the analytical result for comparison\n",
    "analytical_result, _ = quad(f, a, b)\n",
    "print(\"Monte Carlo Integration Results:\")\n",
    "for n in n_values:\n",
    "    # Generate random samples\n",
    "    rng = np.random.default_rng()\n",
    "    x_samples = rng.uniform(a, b, size=n)\n",
    "    \n",
    "    # Calculate the function values at the sample points\n",
    "    f_values = f(x_samples)\n",
    "    \n",
    "    # Monte Carlo estimation of the integral\n",
    "    integral_estimate = (b - a) * np.mean(f_values)\n",
    "    \n",
    "    # Calculate the standard deviation of the estimate\n",
    "    std_error = np.std(f_values, ddof=1) / np.sqrt(n)\n",
    "    \n",
    "    # Calculate the 95% confidence interval\n",
    "    lower_bound = integral_estimate - 2 * std_error\n",
    "    upper_bound = integral_estimate + 2 * std_error\n",
    "    \n",
    "    # Output the results\n",
    "    print(f\"n = {n}: Integral Estimate = {integral_estimate:.6f}, \"\n",
    "          f\"95% Confidence Interval = [{lower_bound:.6f}, {upper_bound:.6f}]\")\n",
    "# Compare with numerical integration using quad\n",
    "numerical_integral, _ = quad(f, a, b)\n",
    "print(\"\\nNumerical Integration Result (using quad):\")\n",
    "print(f\"Numerical Integral = {numerical_integral:.6f}\")\n",
    "# Compare with analytical result\n",
    "print(\"\\nAnalytical Result:\")\n",
    "print(f\"Analytical Result = {analytical_result:.6f}\")\n"
   ]
  },
  {
   "cell_type": "code",
   "execution_count": null,
   "id": "887dafd6",
   "metadata": {},
   "outputs": [],
   "source": []
  }
 ],
 "metadata": {
  "kernelspec": {
   "display_name": "Python 3 (ipykernel)",
   "language": "python",
   "name": "python3"
  },
  "language_info": {
   "codemirror_mode": {
    "name": "ipython",
    "version": 3
   },
   "file_extension": ".py",
   "mimetype": "text/x-python",
   "name": "python",
   "nbconvert_exporter": "python",
   "pygments_lexer": "ipython3",
   "version": "3.11.5"
  }
 },
 "nbformat": 4,
 "nbformat_minor": 5
}
